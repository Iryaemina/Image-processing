{
 "cells": [
  {
   "cell_type": "code",
   "execution_count": 3,
   "metadata": {},
   "outputs": [
    {
     "name": "stdout",
     "output_type": "stream",
     "text": [
      " * Serving Flask app '__main__'\n",
      " * Debug mode: on\n"
     ]
    },
    {
     "name": "stderr",
     "output_type": "stream",
     "text": [
      "WARNING: This is a development server. Do not use it in a production deployment. Use a production WSGI server instead.\n",
      " * Running on http://127.0.0.1:5000\n",
      "Press CTRL+C to quit\n",
      " * Restarting with stat\n"
     ]
    },
    {
     "ename": "SystemExit",
     "evalue": "1",
     "output_type": "error",
     "traceback": [
      "An exception has occurred, use %tb to see the full traceback.\n",
      "\u001b[1;31mSystemExit\u001b[0m\u001b[1;31m:\u001b[0m 1\n"
     ]
    }
   ],
   "source": [
    "from flask import Flask, render_template, request, send_file, jsonify\n",
    "import cv2\n",
    "import numpy as np\n",
    "import os\n",
    "from werkzeug.utils import secure_filename\n",
    "\n",
    "app = Flask(__name__)\n",
    "UPLOAD_FOLDER = 'uploads'\n",
    "PROCESSED_FOLDER = 'processed'\n",
    "os.makedirs(UPLOAD_FOLDER, exist_ok=True)\n",
    "os.makedirs(PROCESSED_FOLDER, exist_ok=True)\n",
    "\n",
    "@app.route('/')\n",
    "def index():\n",
    "    return render_template('index.html')\n",
    "\n",
    "@app.route('/upload', methods=['POST'])\n",
    "def upload():\n",
    "    file = request.files['image']\n",
    "    filename = secure_filename(file.filename)\n",
    "    filepath = os.path.join(UPLOAD_FOLDER, filename)\n",
    "    file.save(filepath)\n",
    "    return jsonify({'filename': filename})\n",
    "\n",
    "@app.route('/process/<operation>/<filename>')\n",
    "def process(operation, filename):\n",
    "    filepath = os.path.join(UPLOAD_FOLDER, filename)\n",
    "    image = cv2.imread(filepath)\n",
    "\n",
    "    if operation == 'grayscale':\n",
    "        processed = cv2.cvtColor(image, cv2.COLOR_BGR2GRAY)\n",
    "    elif operation == 'canny':\n",
    "        gray = cv2.cvtColor(image, cv2.COLOR_BGR2GRAY)\n",
    "        processed = cv2.Canny(gray, 50, 150)\n",
    "    elif operation == 'sobel':\n",
    "        gray = cv2.cvtColor(image, cv2.COLOR_BGR2GRAY)\n",
    "        sobelx = cv2.Sobel(gray, cv2.CV_64F, 1, 0, ksize=5)\n",
    "        sobely = cv2.Sobel(gray, cv2.CV_64F, 0, 1, ksize=5)\n",
    "        processed = cv2.convertScaleAbs(sobelx) + cv2.convertScaleAbs(sobely)\n",
    "    elif operation == 'gaussian':\n",
    "        processed = cv2.GaussianBlur(image, (5, 5), 0)\n",
    "    elif operation == 'median':\n",
    "        processed = cv2.medianBlur(image, 5)\n",
    "    elif operation == 'contours':\n",
    "        gray = cv2.cvtColor(image, cv2.COLOR_BGR2GRAY)\n",
    "        _, thresh = cv2.threshold(gray, 127, 255, cv2.THRESH_BINARY)\n",
    "        contours, _ = cv2.findContours(thresh, cv2.RETR_TREE, cv2.CHAIN_APPROX_SIMPLE)\n",
    "        processed = image.copy()\n",
    "        cv2.drawContours(processed, contours, -1, (0, 255, 0), 2)\n",
    "    else:\n",
    "        return jsonify({'error': 'Unknown operation'})\n",
    "\n",
    "    out_path = os.path.join(PROCESSED_FOLDER, f'{operation}_{filename}')\n",
    "    if len(processed.shape) == 2:\n",
    "        cv2.imwrite(out_path, processed)\n",
    "    else:\n",
    "        cv2.imwrite(out_path, cv2.cvtColor(processed, cv2.COLOR_RGB2BGR))\n",
    "\n",
    "    return send_file(out_path, mimetype='image/jpeg')\n",
    "\n",
    "if __name__ == '__main__':\n",
    "    app.run(debug=True)"
   ]
  }
 ],
 "metadata": {
  "kernelspec": {
   "display_name": "Python 3",
   "language": "python",
   "name": "python3"
  },
  "language_info": {
   "codemirror_mode": {
    "name": "ipython",
    "version": 3
   },
   "file_extension": ".py",
   "mimetype": "text/x-python",
   "name": "python",
   "nbconvert_exporter": "python",
   "pygments_lexer": "ipython3",
   "version": "3.12.0"
  }
 },
 "nbformat": 4,
 "nbformat_minor": 2
}
